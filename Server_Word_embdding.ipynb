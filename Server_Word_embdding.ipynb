{
 "cells": [
  {
   "cell_type": "markdown",
   "metadata": {},
   "source": [
    "### Import Comment"
   ]
  },
  {
   "cell_type": "code",
   "execution_count": 1,
   "metadata": {},
   "outputs": [
    {
     "data": {
      "text/html": [
       "<div>\n",
       "<style scoped>\n",
       "    .dataframe tbody tr th:only-of-type {\n",
       "        vertical-align: middle;\n",
       "    }\n",
       "\n",
       "    .dataframe tbody tr th {\n",
       "        vertical-align: top;\n",
       "    }\n",
       "\n",
       "    .dataframe thead th {\n",
       "        text-align: right;\n",
       "    }\n",
       "</style>\n",
       "<table border=\"1\" class=\"dataframe\">\n",
       "  <thead>\n",
       "    <tr style=\"text-align: right;\">\n",
       "      <th></th>\n",
       "      <th>sentiment_polarity_textblob</th>\n",
       "      <th>comment</th>\n",
       "      <th>sentiment_polarity_vader</th>\n",
       "    </tr>\n",
       "  </thead>\n",
       "  <tbody>\n",
       "    <tr>\n",
       "      <th>0</th>\n",
       "      <td>0.225000</td>\n",
       "      <td>actually good unbelievable god like quote</td>\n",
       "      <td>0.8074</td>\n",
       "    </tr>\n",
       "    <tr>\n",
       "      <th>1</th>\n",
       "      <td>0.113636</td>\n",
       "      <td>positive energy one reason well going use tech...</td>\n",
       "      <td>0.7783</td>\n",
       "    </tr>\n",
       "    <tr>\n",
       "      <th>2</th>\n",
       "      <td>0.050000</td>\n",
       "      <td>harry weekend league every game go penalties w...</td>\n",
       "      <td>0.1027</td>\n",
       "    </tr>\n",
       "    <tr>\n",
       "      <th>3</th>\n",
       "      <td>0.392857</td>\n",
       "      <td>everton fan right swear quoted line fields anf...</td>\n",
       "      <td>0.7430</td>\n",
       "    </tr>\n",
       "    <tr>\n",
       "      <th>4</th>\n",
       "      <td>0.500000</td>\n",
       "      <td>know harry got top bronze team never mentions</td>\n",
       "      <td>0.2023</td>\n",
       "    </tr>\n",
       "    <tr>\n",
       "      <th>...</th>\n",
       "      <td>...</td>\n",
       "      <td>...</td>\n",
       "      <td>...</td>\n",
       "    </tr>\n",
       "    <tr>\n",
       "      <th>37486</th>\n",
       "      <td>0.100000</td>\n",
       "      <td>made pete look young</td>\n",
       "      <td>0.0000</td>\n",
       "    </tr>\n",
       "    <tr>\n",
       "      <th>37487</th>\n",
       "      <td>0.100000</td>\n",
       "      <td>finishers game amazing</td>\n",
       "      <td>0.5859</td>\n",
       "    </tr>\n",
       "    <tr>\n",
       "      <th>37488</th>\n",
       "      <td>-0.150000</td>\n",
       "      <td>jack really loud game</td>\n",
       "      <td>0.0000</td>\n",
       "    </tr>\n",
       "    <tr>\n",
       "      <th>37489</th>\n",
       "      <td>0.000000</td>\n",
       "      <td>energy converter generator</td>\n",
       "      <td>0.2732</td>\n",
       "    </tr>\n",
       "    <tr>\n",
       "      <th>37490</th>\n",
       "      <td>-0.166667</td>\n",
       "      <td>yeh miles made black suit</td>\n",
       "      <td>0.0000</td>\n",
       "    </tr>\n",
       "  </tbody>\n",
       "</table>\n",
       "<p>37491 rows × 3 columns</p>\n",
       "</div>"
      ],
      "text/plain": [
       "       sentiment_polarity_textblob  \\\n",
       "0                         0.225000   \n",
       "1                         0.113636   \n",
       "2                         0.050000   \n",
       "3                         0.392857   \n",
       "4                         0.500000   \n",
       "...                            ...   \n",
       "37486                     0.100000   \n",
       "37487                     0.100000   \n",
       "37488                    -0.150000   \n",
       "37489                     0.000000   \n",
       "37490                    -0.166667   \n",
       "\n",
       "                                                 comment  \\\n",
       "0              actually good unbelievable god like quote   \n",
       "1      positive energy one reason well going use tech...   \n",
       "2      harry weekend league every game go penalties w...   \n",
       "3      everton fan right swear quoted line fields anf...   \n",
       "4          know harry got top bronze team never mentions   \n",
       "...                                                  ...   \n",
       "37486                               made pete look young   \n",
       "37487                             finishers game amazing   \n",
       "37488                              jack really loud game   \n",
       "37489                         energy converter generator   \n",
       "37490                          yeh miles made black suit   \n",
       "\n",
       "       sentiment_polarity_vader  \n",
       "0                        0.8074  \n",
       "1                        0.7783  \n",
       "2                        0.1027  \n",
       "3                        0.7430  \n",
       "4                        0.2023  \n",
       "...                         ...  \n",
       "37486                    0.0000  \n",
       "37487                    0.5859  \n",
       "37488                    0.0000  \n",
       "37489                    0.2732  \n",
       "37490                    0.0000  \n",
       "\n",
       "[37491 rows x 3 columns]"
      ]
     },
     "execution_count": 1,
     "metadata": {},
     "output_type": "execute_result"
    }
   ],
   "source": [
    "import pandas as pd\n",
    "import numpy as np\n",
    "import umap\n",
    "import matplotlib.pyplot as plt\n",
    "import matplotlib\n",
    "df = pd.read_csv('/home/spuccio/God-of-Words/df_merge.csv',sep=\"\\t\",header=0)\n",
    "df"
   ]
  },
  {
   "cell_type": "code",
   "execution_count": 2,
   "metadata": {},
   "outputs": [],
   "source": [
    "df2 = df[['comment','sentiment_polarity_vader']].loc[(df['sentiment_polarity_vader'] >= 0.75) | (df['sentiment_polarity_vader'] <= -0.75) ]"
   ]
  },
  {
   "cell_type": "code",
   "execution_count": 3,
   "metadata": {},
   "outputs": [],
   "source": [
    "df2['final_sentiment'] = np.where(df2['sentiment_polarity_vader'] > 0,\"positive\",np.where(df2['sentiment_polarity_vader']<0,\"negative\",1)) "
   ]
  },
  {
   "cell_type": "code",
   "execution_count": 4,
   "metadata": {},
   "outputs": [
    {
     "data": {
      "text/html": [
       "<div>\n",
       "<style scoped>\n",
       "    .dataframe tbody tr th:only-of-type {\n",
       "        vertical-align: middle;\n",
       "    }\n",
       "\n",
       "    .dataframe tbody tr th {\n",
       "        vertical-align: top;\n",
       "    }\n",
       "\n",
       "    .dataframe thead th {\n",
       "        text-align: right;\n",
       "    }\n",
       "</style>\n",
       "<table border=\"1\" class=\"dataframe\">\n",
       "  <thead>\n",
       "    <tr style=\"text-align: right;\">\n",
       "      <th></th>\n",
       "      <th>comment</th>\n",
       "      <th>sentiment_polarity_vader</th>\n",
       "      <th>final_sentiment</th>\n",
       "    </tr>\n",
       "  </thead>\n",
       "  <tbody>\n",
       "    <tr>\n",
       "      <th>0</th>\n",
       "      <td>actually good unbelievable god like quote</td>\n",
       "      <td>0.8074</td>\n",
       "      <td>positive</td>\n",
       "    </tr>\n",
       "    <tr>\n",
       "      <th>1</th>\n",
       "      <td>positive energy one reason well going use tech...</td>\n",
       "      <td>0.7783</td>\n",
       "      <td>positive</td>\n",
       "    </tr>\n",
       "    <tr>\n",
       "      <th>11</th>\n",
       "      <td>really enjoy videos bro keep good grind harry ...</td>\n",
       "      <td>0.9516</td>\n",
       "      <td>positive</td>\n",
       "    </tr>\n",
       "    <tr>\n",
       "      <th>14</th>\n",
       "      <td>love celebrates comes bad team like already ke...</td>\n",
       "      <td>0.7845</td>\n",
       "      <td>positive</td>\n",
       "    </tr>\n",
       "    <tr>\n",
       "      <th>21</th>\n",
       "      <td>love basically adds vids id watch guy would ge...</td>\n",
       "      <td>0.7717</td>\n",
       "      <td>positive</td>\n",
       "    </tr>\n",
       "    <tr>\n",
       "      <th>...</th>\n",
       "      <td>...</td>\n",
       "      <td>...</td>\n",
       "      <td>...</td>\n",
       "    </tr>\n",
       "    <tr>\n",
       "      <th>37424</th>\n",
       "      <td>love excited gets graphics bc way</td>\n",
       "      <td>0.7650</td>\n",
       "      <td>positive</td>\n",
       "    </tr>\n",
       "    <tr>\n",
       "      <th>37429</th>\n",
       "      <td>petes eyes pitch black spider bite must infect...</td>\n",
       "      <td>-0.8779</td>\n",
       "      <td>negative</td>\n",
       "    </tr>\n",
       "    <tr>\n",
       "      <th>37444</th>\n",
       "      <td>love sound holograms make like ropt going aaa</td>\n",
       "      <td>0.7717</td>\n",
       "      <td>positive</td>\n",
       "    </tr>\n",
       "    <tr>\n",
       "      <th>37469</th>\n",
       "      <td>holy crap man loved video much wish game huge ...</td>\n",
       "      <td>0.9153</td>\n",
       "      <td>positive</td>\n",
       "    </tr>\n",
       "    <tr>\n",
       "      <th>37476</th>\n",
       "      <td>makes happy see happy</td>\n",
       "      <td>0.8126</td>\n",
       "      <td>positive</td>\n",
       "    </tr>\n",
       "  </tbody>\n",
       "</table>\n",
       "<p>4711 rows × 3 columns</p>\n",
       "</div>"
      ],
      "text/plain": [
       "                                                 comment  \\\n",
       "0              actually good unbelievable god like quote   \n",
       "1      positive energy one reason well going use tech...   \n",
       "11     really enjoy videos bro keep good grind harry ...   \n",
       "14     love celebrates comes bad team like already ke...   \n",
       "21     love basically adds vids id watch guy would ge...   \n",
       "...                                                  ...   \n",
       "37424                  love excited gets graphics bc way   \n",
       "37429  petes eyes pitch black spider bite must infect...   \n",
       "37444      love sound holograms make like ropt going aaa   \n",
       "37469  holy crap man loved video much wish game huge ...   \n",
       "37476                              makes happy see happy   \n",
       "\n",
       "       sentiment_polarity_vader final_sentiment  \n",
       "0                        0.8074        positive  \n",
       "1                        0.7783        positive  \n",
       "11                       0.9516        positive  \n",
       "14                       0.7845        positive  \n",
       "21                       0.7717        positive  \n",
       "...                         ...             ...  \n",
       "37424                    0.7650        positive  \n",
       "37429                   -0.8779        negative  \n",
       "37444                    0.7717        positive  \n",
       "37469                    0.9153        positive  \n",
       "37476                    0.8126        positive  \n",
       "\n",
       "[4711 rows x 3 columns]"
      ]
     },
     "execution_count": 4,
     "metadata": {},
     "output_type": "execute_result"
    }
   ],
   "source": [
    "df2"
   ]
  },
  {
   "cell_type": "code",
   "execution_count": 5,
   "metadata": {},
   "outputs": [
    {
     "name": "stderr",
     "output_type": "stream",
     "text": [
      "[nltk_data] Downloading package wordnet to /home/spuccio/nltk_data...\n",
      "[nltk_data]   Package wordnet is already up-to-date!\n"
     ]
    },
    {
     "data": {
      "text/plain": [
       "0         [actually, good, unbelievable, god, like, quote]\n",
       "1        [positive, energy, one, reason, well, going, u...\n",
       "11       [really, enjoy, video, bro, keep, good, grind,...\n",
       "14       [love, celebrates, come, bad, team, like, alre...\n",
       "21       [love, basically, add, vids, id, watch, guy, w...\n",
       "                               ...                        \n",
       "37424               [love, excited, get, graphic, bc, way]\n",
       "37429    [petes, eye, pitch, black, spider, bite, must,...\n",
       "37444    [love, sound, hologram, make, like, ropt, goin...\n",
       "37469    [holy, crap, man, loved, video, much, wish, ga...\n",
       "37476                            [make, happy, see, happy]\n",
       "Name: comment, Length: 4711, dtype: object"
      ]
     },
     "execution_count": 5,
     "metadata": {},
     "output_type": "execute_result"
    }
   ],
   "source": [
    "from tqdm import tqdm\n",
    "import nltk\n",
    "nltk.download('wordnet')\n",
    "from nltk.corpus import stopwords\n",
    "from nltk.stem import WordNetLemmatizer\n",
    "\n",
    "stop = stopwords.words('english')\n",
    "lemmatizer = WordNetLemmatizer()\n",
    "\n",
    "stop = [x.replace(\"'\",'') for x in stop]\n",
    "\n",
    "corpus = df2['comment'][~df2['comment'].isna()]\n",
    "corpus = corpus.str.lower().str.replace('[^\\w\\s]','')\n",
    "corpus = corpus.str.split()\n",
    "corpus = corpus.apply(lambda x: [lemmatizer.lemmatize(item) for item in x if item not in stop])\n",
    "corpus = corpus.apply(lambda x: [item for item in x if not item.isnumeric()])\n",
    "corpus"
   ]
  },
  {
   "cell_type": "code",
   "execution_count": 6,
   "metadata": {},
   "outputs": [],
   "source": [
    "#corpus.str.split()"
   ]
  },
  {
   "cell_type": "code",
   "execution_count": 7,
   "metadata": {},
   "outputs": [],
   "source": [
    "from collections import Counter\n",
    "c = Counter()\n",
    "for sentence in corpus:\n",
    "    c.update(sentence)"
   ]
  },
  {
   "cell_type": "code",
   "execution_count": 8,
   "metadata": {},
   "outputs": [
    {
     "name": "stdout",
     "output_type": "stream",
     "text": [
      "Most common words in the corpus: [('game', 2951), ('like', 1282), ('love', 976), ('play', 850), ('one', 693), ('would', 562), ('best', 549), ('time', 524), ('look', 494), ('really', 470)]\n",
      "\n",
      "Number of different words in the corpus: 7696\n"
     ]
    }
   ],
   "source": [
    "print(f'Most common words in the corpus: {c.most_common(10)}\\n')\n",
    "print(f'Number of different words in the corpus: {len(c)}')"
   ]
  },
  {
   "cell_type": "markdown",
   "metadata": {},
   "source": [
    "#### TD-IDF model"
   ]
  },
  {
   "cell_type": "code",
   "execution_count": 9,
   "metadata": {},
   "outputs": [],
   "source": [
    "import numpy as np\n",
    "from sklearn.feature_extraction.text import CountVectorizer, TfidfVectorizer"
   ]
  },
  {
   "cell_type": "code",
   "execution_count": 10,
   "metadata": {},
   "outputs": [],
   "source": [
    "# vettorizazione \n",
    "#vectorizer = CountVectorizer(ngram_range=(1, 1))\n",
    "#vectorizer = TfidfVectorizer(ngram_range=(1, 1), max_features=1000)"
   ]
  },
  {
   "cell_type": "code",
   "execution_count": 11,
   "metadata": {},
   "outputs": [],
   "source": [
    "corpus = corpus.reset_index(drop=True)"
   ]
  },
  {
   "cell_type": "code",
   "execution_count": 12,
   "metadata": {},
   "outputs": [],
   "source": [
    "corpus2=[]\n",
    "for i in range(len(corpus)):\n",
    "    corpus2.append(\" \".join(corpus[i]))"
   ]
  },
  {
   "cell_type": "code",
   "execution_count": 13,
   "metadata": {},
   "outputs": [],
   "source": [
    "# vettorizazione \n",
    "#vectorizer = CountVectorizer(ngram_range=(1, 1))\n",
    "vectorizer = TfidfVectorizer(ngram_range=(1, 1))\n",
    "# trasform return sparse matrix\n",
    "X = vectorizer.fit_transform(corpus2)"
   ]
  },
  {
   "cell_type": "code",
   "execution_count": 14,
   "metadata": {},
   "outputs": [
    {
     "name": "stdout",
     "output_type": "stream",
     "text": [
      "TFIDF model (4711, 7676)\n"
     ]
    }
   ],
   "source": [
    "print('TFIDF model', X.shape)"
   ]
  },
  {
   "cell_type": "markdown",
   "metadata": {},
   "source": [
    "#######"
   ]
  },
  {
   "cell_type": "code",
   "execution_count": 15,
   "metadata": {},
   "outputs": [
    {
     "data": {
      "text/plain": [
       "['actually',\n",
       " 'good',\n",
       " 'unbelievable',\n",
       " 'god',\n",
       " 'like',\n",
       " 'quote',\n",
       " 'positive',\n",
       " 'energy',\n",
       " 'one',\n",
       " 'reason']"
      ]
     },
     "execution_count": 15,
     "metadata": {},
     "output_type": "execute_result"
    }
   ],
   "source": [
    "list(vectorizer.vocabulary_.keys())[:10]"
   ]
  },
  {
   "cell_type": "code",
   "execution_count": 16,
   "metadata": {},
   "outputs": [
    {
     "data": {
      "text/plain": [
       "<4711x7676 sparse matrix of type '<class 'numpy.float64'>'\n",
       "\twith 64902 stored elements in Compressed Sparse Row format>"
      ]
     },
     "execution_count": 16,
     "metadata": {},
     "output_type": "execute_result"
    }
   ],
   "source": [
    "X"
   ]
  },
  {
   "cell_type": "code",
   "execution_count": 19,
   "metadata": {},
   "outputs": [
    {
     "data": {
      "text/plain": [
       "['actually',\n",
       " 'good',\n",
       " 'unbelievable',\n",
       " 'god',\n",
       " 'like',\n",
       " 'quote',\n",
       " 'positive',\n",
       " 'energy',\n",
       " 'one',\n",
       " 'reason']"
      ]
     },
     "execution_count": 19,
     "metadata": {},
     "output_type": "execute_result"
    }
   ],
   "source": [
    "#vectorizer.vocabulary_.keys())[:10]\n",
    "list(vectorizer.vocabulary_.keys())[:10]"
   ]
  },
  {
   "cell_type": "code",
   "execution_count": 20,
   "metadata": {},
   "outputs": [
    {
     "name": "stdout",
     "output_type": "stream",
     "text": [
      "          term        rank\n",
      "2698      game  262.083057\n",
      "3918      love  153.681318\n",
      "3827      like  142.285340\n",
      "4884      play  123.725194\n",
      "651       best  108.271850\n",
      "...        ...         ...\n",
      "7210   vaccine    0.056637\n",
      "4460      nora    0.056637\n",
      "4590  operated    0.056637\n",
      "618       begs    0.056637\n",
      "3536      jail    0.056637\n",
      "\n",
      "[7676 rows x 2 columns]\n"
     ]
    }
   ],
   "source": [
    "terms = vectorizer.get_feature_names()\n",
    "\n",
    "# sum tfidf frequency of each term through documents\n",
    "sums = X.sum(axis=0)\n",
    "\n",
    "# connecting term to its sums frequency\n",
    "data = []\n",
    "for col, term in enumerate(terms):\n",
    "    data.append( (term, sums[0,col] ))\n",
    "\n",
    "ranking = pd.DataFrame(data, columns=['term','rank'])\n",
    "print(ranking.sort_values('rank', ascending=False))\n",
    "rank = ranking.sort_values('rank', ascending=False)"
   ]
  },
  {
   "cell_type": "code",
   "execution_count": 21,
   "metadata": {},
   "outputs": [],
   "source": [
    "rank = rank.reset_index(drop=True)\n",
    "sentiment = []\n",
    "for i in range(len(rank['term'])):\n",
    "    tmp = df2['final_sentiment'][df2['comment'].str.contains(rank['term'][i])].describe()\n",
    "    sentiment.append(tmp['top'])"
   ]
  },
  {
   "cell_type": "code",
   "execution_count": 22,
   "metadata": {},
   "outputs": [
    {
     "data": {
      "text/plain": [
       "7676"
      ]
     },
     "execution_count": 22,
     "metadata": {},
     "output_type": "execute_result"
    }
   ],
   "source": [
    "len(sentiment)"
   ]
  },
  {
   "cell_type": "code",
   "execution_count": 23,
   "metadata": {},
   "outputs": [],
   "source": [
    "rank['sentiment'] = sentiment"
   ]
  },
  {
   "cell_type": "code",
   "execution_count": 24,
   "metadata": {},
   "outputs": [],
   "source": [
    "top_pos = rank.loc[rank['sentiment']==\"positive\"].head(50)\n",
    "top_neg = rank.loc[rank['sentiment']==\"negative\"].head(50)"
   ]
  },
  {
   "cell_type": "code",
   "execution_count": 25,
   "metadata": {},
   "outputs": [],
   "source": [
    "rank_top = top_pos.append(top_neg).reset_index(drop=True)"
   ]
  },
  {
   "cell_type": "code",
   "execution_count": 26,
   "metadata": {},
   "outputs": [],
   "source": [
    "x_sparse = pd.DataFrame(data=X.toarray(),columns=vectorizer.get_feature_names())"
   ]
  },
  {
   "cell_type": "code",
   "execution_count": 30,
   "metadata": {},
   "outputs": [],
   "source": [
    "#### attento\n",
    "x = x_sparse[list(rank_top['term'])]"
   ]
  },
  {
   "cell_type": "code",
   "execution_count": 31,
   "metadata": {},
   "outputs": [
    {
     "data": {
      "text/plain": [
       "(4711, 100)"
      ]
     },
     "execution_count": 31,
     "metadata": {},
     "output_type": "execute_result"
    }
   ],
   "source": [
    "x.shape"
   ]
  },
  {
   "cell_type": "code",
   "execution_count": 32,
   "metadata": {},
   "outputs": [
    {
     "name": "stderr",
     "output_type": "stream",
     "text": [
      "/home/spuccio/miniconda3/lib/python3.7/site-packages/umap/umap_.py:1158: RuntimeWarning: divide by zero encountered in power\n",
      "  return 1.0 / (1.0 + a * x ** (2 * b))\n",
      "/home/spuccio/miniconda3/lib/python3.7/site-packages/umap/umap_.py:1679: UserWarning: n_neighbors is larger than the dataset size; truncating to X.shape[0] - 1\n",
      "  \"n_neighbors is larger than the dataset size; truncating to \"\n"
     ]
    }
   ],
   "source": [
    "reducer = umap.UMAP(n_neighbors=200, metric='cosine', learning_rate=0.01,n_epochs=2000, spread=5, min_dist=0.5, random_state=42)\n",
    "embedding = reducer.fit_transform(x.T)\n",
    "dfumap = pd.DataFrame({'Umap_1': embedding[:, 0], 'Umap_2': embedding[:, 1]})\n",
    "dfumap = dfumap.round(2)"
   ]
  },
  {
   "cell_type": "code",
   "execution_count": 33,
   "metadata": {},
   "outputs": [],
   "source": [
    "dfumap = pd.DataFrame({'Umap_1': embedding[:, 0], 'Umap_2': embedding[:, 1]})\n",
    "dfumap = dfumap.round(2)"
   ]
  },
  {
   "cell_type": "code",
   "execution_count": 36,
   "metadata": {},
   "outputs": [],
   "source": [
    "dfumap['term'] = x.columns"
   ]
  },
  {
   "cell_type": "code",
   "execution_count": 37,
   "metadata": {},
   "outputs": [],
   "source": [
    "sentiment = []\n",
    "for i in range(len(dfumap['term'])):\n",
    "    tmp = df2['final_sentiment'][df2['comment'].str.contains(dfumap['term'][i])].describe()\n",
    "    sentiment.append(tmp['top'])"
   ]
  },
  {
   "cell_type": "code",
   "execution_count": 38,
   "metadata": {},
   "outputs": [],
   "source": [
    "dfumap['sentiment'] = sentiment"
   ]
  },
  {
   "cell_type": "code",
   "execution_count": 39,
   "metadata": {},
   "outputs": [
    {
     "data": {
      "text/html": [
       "<div>\n",
       "<style scoped>\n",
       "    .dataframe tbody tr th:only-of-type {\n",
       "        vertical-align: middle;\n",
       "    }\n",
       "\n",
       "    .dataframe tbody tr th {\n",
       "        vertical-align: top;\n",
       "    }\n",
       "\n",
       "    .dataframe thead th {\n",
       "        text-align: right;\n",
       "    }\n",
       "</style>\n",
       "<table border=\"1\" class=\"dataframe\">\n",
       "  <thead>\n",
       "    <tr style=\"text-align: right;\">\n",
       "      <th></th>\n",
       "      <th>Umap_1</th>\n",
       "      <th>Umap_2</th>\n",
       "      <th>term</th>\n",
       "      <th>sentiment</th>\n",
       "    </tr>\n",
       "  </thead>\n",
       "  <tbody>\n",
       "    <tr>\n",
       "      <th>0</th>\n",
       "      <td>14.69</td>\n",
       "      <td>10.59</td>\n",
       "      <td>game</td>\n",
       "      <td>positive</td>\n",
       "    </tr>\n",
       "    <tr>\n",
       "      <th>1</th>\n",
       "      <td>15.83</td>\n",
       "      <td>3.58</td>\n",
       "      <td>love</td>\n",
       "      <td>positive</td>\n",
       "    </tr>\n",
       "    <tr>\n",
       "      <th>2</th>\n",
       "      <td>13.41</td>\n",
       "      <td>9.39</td>\n",
       "      <td>like</td>\n",
       "      <td>positive</td>\n",
       "    </tr>\n",
       "    <tr>\n",
       "      <th>3</th>\n",
       "      <td>15.70</td>\n",
       "      <td>7.29</td>\n",
       "      <td>play</td>\n",
       "      <td>positive</td>\n",
       "    </tr>\n",
       "    <tr>\n",
       "      <th>4</th>\n",
       "      <td>7.30</td>\n",
       "      <td>13.11</td>\n",
       "      <td>best</td>\n",
       "      <td>positive</td>\n",
       "    </tr>\n",
       "    <tr>\n",
       "      <th>...</th>\n",
       "      <td>...</td>\n",
       "      <td>...</td>\n",
       "      <td>...</td>\n",
       "      <td>...</td>\n",
       "    </tr>\n",
       "    <tr>\n",
       "      <th>95</th>\n",
       "      <td>1.85</td>\n",
       "      <td>1.04</td>\n",
       "      <td>scared</td>\n",
       "      <td>negative</td>\n",
       "    </tr>\n",
       "    <tr>\n",
       "      <th>96</th>\n",
       "      <td>5.70</td>\n",
       "      <td>4.70</td>\n",
       "      <td>completely</td>\n",
       "      <td>negative</td>\n",
       "    </tr>\n",
       "    <tr>\n",
       "      <th>97</th>\n",
       "      <td>3.17</td>\n",
       "      <td>3.24</td>\n",
       "      <td>savagely</td>\n",
       "      <td>negative</td>\n",
       "    </tr>\n",
       "    <tr>\n",
       "      <th>98</th>\n",
       "      <td>4.84</td>\n",
       "      <td>2.22</td>\n",
       "      <td>killer</td>\n",
       "      <td>negative</td>\n",
       "    </tr>\n",
       "    <tr>\n",
       "      <th>99</th>\n",
       "      <td>2.91</td>\n",
       "      <td>9.55</td>\n",
       "      <td>lost</td>\n",
       "      <td>negative</td>\n",
       "    </tr>\n",
       "  </tbody>\n",
       "</table>\n",
       "<p>100 rows × 4 columns</p>\n",
       "</div>"
      ],
      "text/plain": [
       "    Umap_1  Umap_2        term sentiment\n",
       "0    14.69   10.59        game  positive\n",
       "1    15.83    3.58        love  positive\n",
       "2    13.41    9.39        like  positive\n",
       "3    15.70    7.29        play  positive\n",
       "4     7.30   13.11        best  positive\n",
       "..     ...     ...         ...       ...\n",
       "95    1.85    1.04      scared  negative\n",
       "96    5.70    4.70  completely  negative\n",
       "97    3.17    3.24    savagely  negative\n",
       "98    4.84    2.22      killer  negative\n",
       "99    2.91    9.55        lost  negative\n",
       "\n",
       "[100 rows x 4 columns]"
      ]
     },
     "execution_count": 39,
     "metadata": {},
     "output_type": "execute_result"
    }
   ],
   "source": [
    "dfumap"
   ]
  },
  {
   "cell_type": "code",
   "execution_count": 40,
   "metadata": {},
   "outputs": [],
   "source": [
    "colors = {'positive':'red', 'negative':'blue'}"
   ]
  },
  {
   "cell_type": "code",
   "execution_count": 68,
   "metadata": {},
   "outputs": [
    {
     "data": {
      "image/png": "[encoded data removed]",
      "text/plain": [
       "<Figure size 1080x864 with 1 Axes>"
      ]
     },
     "metadata": {
      "needs_background": "light"
     },
     "output_type": "display_data"
    }
   ],
   "source": [
    "plt.rcParams['figure.figsize'] = 15, 12\n",
    "plt.scatter(dfumap['Umap_1'], dfumap['Umap_2'],alpha=0.5, c=dfumap['sentiment'].apply(lambda x: colors[x]))\n",
    "for i, txt in enumerate(dfumap['term']):\n",
    "    plt.annotate(txt, (dfumap['Umap_1'][i], dfumap['Umap_2'][i]))\n",
    "plt.legend( labels  = ['positive','negative'])\n",
    "plt.show()\n"
   ]
  },
  {
   "cell_type": "code",
   "execution_count": null,
   "metadata": {},
   "outputs": [],
   "source": []
  }
 ],
 "metadata": {
  "kernelspec": {
   "display_name": "Python 3",
   "language": "python",
   "name": "python3"
  },
  "language_info": {
   "codemirror_mode": {
    "name": "ipython",
    "version": 3
   },
   "file_extension": ".py",
   "mimetype": "text/x-python",
   "name": "python",
   "nbconvert_exporter": "python",
   "pygments_lexer": "ipython3",
   "version": "3.7.7"
  }
 },
 "nbformat": 4,
 "nbformat_minor": 4
}
